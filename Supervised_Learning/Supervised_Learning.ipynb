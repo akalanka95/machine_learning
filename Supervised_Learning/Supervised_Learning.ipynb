{
 "cells": [
  {
   "cell_type": "code",
   "execution_count": 24,
   "metadata": {},
   "outputs": [
    {
     "data": {
      "image/png": "[encoded data removed]",
      "text/plain": [
       "<Figure size 432x288 with 1 Axes>"
      ]
     },
     "metadata": {
      "needs_background": "light"
     },
     "output_type": "display_data"
    },
    {
     "data": {
      "text/plain": [
       "37.173521258747606"
      ]
     },
     "execution_count": 24,
     "metadata": {},
     "output_type": "execute_result"
    }
   ],
   "source": [
    "import pandas as pd\n",
    "import matplotlib.pyplot as plt \n",
    "from sklearn.linear_model import LinearRegression\n",
    "import numpy as np\n",
    "from sklearn.metrics import mean_squared_error\n",
    "\n",
    "##Load Data\n",
    "\n",
    "dataframe = pd.read_csv(\"student_scores.csv\")\n",
    "\n",
    "##print (dataframe)\n",
    "##print (dataframe.head())\n",
    "##print (dataframe.describe())\n",
    "\n",
    "## Plot the Data \n",
    "X = dataframe[\"Hours\"].values.reshape(-1,1)\n",
    "Y = dataframe[\"Scores\"].values.reshape(-1,1)\n",
    "\n",
    "##plt.plot(X,Y , 'o')\n",
    "plt.title(\"Predicting Scores\")\n",
    "##plt.show()\n",
    "\n",
    "## Build a Linear Regression Model\n",
    "## 80% as training data \n",
    "\n",
    "X_train , Y_train = X[0:20] , Y[0:20]\n",
    "X_test , Y_test = X[19:] , Y[19:]\n",
    "\n",
    "##print (X_train , X_test)\n",
    "\n",
    "## Build the Model\n",
    "model = LinearRegression() \n",
    "model.fit(X_train,Y_train)\n",
    "\n",
    "## plot the Regression Line\n",
    "regression_line = model.predict(X)\n",
    "plt.plot(X,regression_line)\n",
    "plt.plot(X_train,Y_train,'o')\n",
    "plt.plot(X_test,Y_test,'o')\n",
    "plt.show()\n",
    "\n",
    "## model for one point\n",
    "train_data = [[8]]\n",
    "##print (model.predict(train_data))\n",
    "\n",
    "Y_prediction = model.predict(X_test)\n",
    "\n",
    "## Estimate Error\n",
    "##mean_squard_error(Actual,Prediction)\n",
    "\n",
    "mean_squared_error(Y_test,Y_prediction)\n"
   ]
  },
  {
   "cell_type": "code",
   "execution_count": null,
   "metadata": {},
   "outputs": [],
   "source": []
  }
 ],
 "metadata": {
  "kernelspec": {
   "display_name": "Python 3",
   "language": "python",
   "name": "python3"
  },
  "language_info": {
   "codemirror_mode": {
    "name": "ipython",
    "version": 3
   },
   "file_extension": ".py",
   "mimetype": "text/x-python",
   "name": "python",
   "nbconvert_exporter": "python",
   "pygments_lexer": "ipython3",
   "version": "3.7.3"
  }
 },
 "nbformat": 4,
 "nbformat_minor": 1
}
